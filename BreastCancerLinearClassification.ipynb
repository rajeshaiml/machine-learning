{
  "nbformat": 4,
  "nbformat_minor": 0,
  "metadata": {
    "colab": {
      "name": "BreastCancerLinearClassification.ipynb",
      "provenance": [],
      "toc_visible": true,
      "mount_file_id": "1BRfA4__mTAod4MH8dtpdtpIFSXlXv3tf",
      "authorship_tag": "ABX9TyOhfla2KRnvYrk0juUaA3fm",
      "include_colab_link": true
    },
    "kernelspec": {
      "name": "python3",
      "display_name": "Python 3"
    }
  },
  "cells": [
    {
      "cell_type": "markdown",
      "metadata": {
        "id": "view-in-github",
        "colab_type": "text"
      },
      "source": [
        "<a href=\"https://colab.research.google.com/github/rajeshaiml/machine-learning/blob/master/BreastCancerLinearClassification.ipynb\" target=\"_parent\"><img src=\"https://colab.research.google.com/assets/colab-badge.svg\" alt=\"Open In Colab\"/></a>"
      ]
    },
    {
      "cell_type": "markdown",
      "metadata": {
        "id": "I2clp2G69nv-",
        "colab_type": "text"
      },
      "source": [
        "#Breast Cancer Dataset"
      ]
    },
    {
      "cell_type": "code",
      "metadata": {
        "id": "Tha6k8MaYKS9",
        "colab_type": "code",
        "colab": {}
      },
      "source": [
        "#Reducing comments as Im trying to practice and learn the concept\n",
        "#Libraries\n",
        "import numpy as np\n",
        "import pandas as pd\n",
        "import matplotlib.pyplot as plt\n",
        "import tensorflow as tf\n",
        "from sklearn.model_selection import train_test_split\n",
        "from sklearn.datasets import load_breast_cancer\n",
        "from sklearn.preprocessing import StandardScaler"
      ],
      "execution_count": 26,
      "outputs": []
    },
    {
      "cell_type": "code",
      "metadata": {
        "id": "-40r4CiK-ZOR",
        "colab_type": "code",
        "colab": {}
      },
      "source": [
        "data=load_breast_cancer()"
      ],
      "execution_count": 4,
      "outputs": []
    },
    {
      "cell_type": "code",
      "metadata": {
        "id": "PuSj4H2L-3hk",
        "colab_type": "code",
        "colab": {
          "base_uri": "https://localhost:8080/",
          "height": 34
        },
        "outputId": "17050601-dde6-4bba-dffb-24b48d60caf5"
      },
      "source": [
        "type(data)"
      ],
      "execution_count": 5,
      "outputs": [
        {
          "output_type": "execute_result",
          "data": {
            "text/plain": [
              "sklearn.utils.Bunch"
            ]
          },
          "metadata": {
            "tags": []
          },
          "execution_count": 5
        }
      ]
    },
    {
      "cell_type": "code",
      "metadata": {
        "id": "vTdenb78-41y",
        "colab_type": "code",
        "colab": {
          "base_uri": "https://localhost:8080/",
          "height": 34
        },
        "outputId": "2e76c1f5-5a22-4da4-bde6-437b50aa18b5"
      },
      "source": [
        "print(data.keys())"
      ],
      "execution_count": 7,
      "outputs": [
        {
          "output_type": "stream",
          "text": [
            "dict_keys(['data', 'target', 'target_names', 'DESCR', 'feature_names', 'filename'])\n"
          ],
          "name": "stdout"
        }
      ]
    },
    {
      "cell_type": "code",
      "metadata": {
        "id": "9WHhcewQ_EG1",
        "colab_type": "code",
        "colab": {
          "base_uri": "https://localhost:8080/",
          "height": 34
        },
        "outputId": "848d5782-d53e-49b4-fb24-1a3129319f98"
      },
      "source": [
        "data.data.shape"
      ],
      "execution_count": 9,
      "outputs": [
        {
          "output_type": "execute_result",
          "data": {
            "text/plain": [
              "(569, 30)"
            ]
          },
          "metadata": {
            "tags": []
          },
          "execution_count": 9
        }
      ]
    },
    {
      "cell_type": "code",
      "metadata": {
        "id": "QBJrjYonDF7Y",
        "colab_type": "code",
        "colab": {}
      },
      "source": [
        "S, F = data.data.shape #Samples, Features"
      ],
      "execution_count": 10,
      "outputs": []
    },
    {
      "cell_type": "code",
      "metadata": {
        "id": "PeN01gEmDHhC",
        "colab_type": "code",
        "colab": {
          "base_uri": "https://localhost:8080/",
          "height": 187
        },
        "outputId": "54059b76-497f-41f9-8903-2d1e412233e7"
      },
      "source": [
        "data.feature_names"
      ],
      "execution_count": 16,
      "outputs": [
        {
          "output_type": "execute_result",
          "data": {
            "text/plain": [
              "array(['mean radius', 'mean texture', 'mean perimeter', 'mean area',\n",
              "       'mean smoothness', 'mean compactness', 'mean concavity',\n",
              "       'mean concave points', 'mean symmetry', 'mean fractal dimension',\n",
              "       'radius error', 'texture error', 'perimeter error', 'area error',\n",
              "       'smoothness error', 'compactness error', 'concavity error',\n",
              "       'concave points error', 'symmetry error',\n",
              "       'fractal dimension error', 'worst radius', 'worst texture',\n",
              "       'worst perimeter', 'worst area', 'worst smoothness',\n",
              "       'worst compactness', 'worst concavity', 'worst concave points',\n",
              "       'worst symmetry', 'worst fractal dimension'], dtype='<U23')"
            ]
          },
          "metadata": {
            "tags": []
          },
          "execution_count": 16
        }
      ]
    },
    {
      "cell_type": "code",
      "metadata": {
        "id": "To2VwlcqDBPo",
        "colab_type": "code",
        "colab": {
          "base_uri": "https://localhost:8080/",
          "height": 35
        },
        "outputId": "768d8768-e68e-45a9-dbf6-efd26075e47b"
      },
      "source": [
        "data.filename"
      ],
      "execution_count": 18,
      "outputs": [
        {
          "output_type": "execute_result",
          "data": {
            "application/vnd.google.colaboratory.intrinsic+json": {
              "type": "string"
            },
            "text/plain": [
              "'/usr/local/lib/python3.6/dist-packages/sklearn/datasets/data/breast_cancer.csv'"
            ]
          },
          "metadata": {
            "tags": []
          },
          "execution_count": 18
        }
      ]
    },
    {
      "cell_type": "code",
      "metadata": {
        "id": "D329u2DcDqCd",
        "colab_type": "code",
        "colab": {
          "base_uri": "https://localhost:8080/",
          "height": 171
        },
        "outputId": "ef6dcdc3-c48f-4c68-e991-2039f29f3618"
      },
      "source": [
        "data.DESCR"
      ],
      "execution_count": 19,
      "outputs": [
        {
          "output_type": "execute_result",
          "data": {
            "application/vnd.google.colaboratory.intrinsic+json": {
              "type": "string"
            },
            "text/plain": [
              "'.. _breast_cancer_dataset:\\n\\nBreast cancer wisconsin (diagnostic) dataset\\n--------------------------------------------\\n\\n**Data Set Characteristics:**\\n\\n    :Number of Instances: 569\\n\\n    :Number of Attributes: 30 numeric, predictive attributes and the class\\n\\n    :Attribute Information:\\n        - radius (mean of distances from center to points on the perimeter)\\n        - texture (standard deviation of gray-scale values)\\n        - perimeter\\n        - area\\n        - smoothness (local variation in radius lengths)\\n        - compactness (perimeter^2 / area - 1.0)\\n        - concavity (severity of concave portions of the contour)\\n        - concave points (number of concave portions of the contour)\\n        - symmetry \\n        - fractal dimension (\"coastline approximation\" - 1)\\n\\n        The mean, standard error, and \"worst\" or largest (mean of the three\\n        largest values) of these features were computed for each image,\\n        resulting in 30 features.  For instance, field 3 is Mean Radius, field\\n        13 is Radius SE, field 23 is Worst Radius.\\n\\n        - class:\\n                - WDBC-Malignant\\n                - WDBC-Benign\\n\\n    :Summary Statistics:\\n\\n    ===================================== ====== ======\\n                                           Min    Max\\n    ===================================== ====== ======\\n    radius (mean):                        6.981  28.11\\n    texture (mean):                       9.71   39.28\\n    perimeter (mean):                     43.79  188.5\\n    area (mean):                          143.5  2501.0\\n    smoothness (mean):                    0.053  0.163\\n    compactness (mean):                   0.019  0.345\\n    concavity (mean):                     0.0    0.427\\n    concave points (mean):                0.0    0.201\\n    symmetry (mean):                      0.106  0.304\\n    fractal dimension (mean):             0.05   0.097\\n    radius (standard error):              0.112  2.873\\n    texture (standard error):             0.36   4.885\\n    perimeter (standard error):           0.757  21.98\\n    area (standard error):                6.802  542.2\\n    smoothness (standard error):          0.002  0.031\\n    compactness (standard error):         0.002  0.135\\n    concavity (standard error):           0.0    0.396\\n    concave points (standard error):      0.0    0.053\\n    symmetry (standard error):            0.008  0.079\\n    fractal dimension (standard error):   0.001  0.03\\n    radius (worst):                       7.93   36.04\\n    texture (worst):                      12.02  49.54\\n    perimeter (worst):                    50.41  251.2\\n    area (worst):                         185.2  4254.0\\n    smoothness (worst):                   0.071  0.223\\n    compactness (worst):                  0.027  1.058\\n    concavity (worst):                    0.0    1.252\\n    concave points (worst):               0.0    0.291\\n    symmetry (worst):                     0.156  0.664\\n    fractal dimension (worst):            0.055  0.208\\n    ===================================== ====== ======\\n\\n    :Missing Attribute Values: None\\n\\n    :Class Distribution: 212 - Malignant, 357 - Benign\\n\\n    :Creator:  Dr. William H. Wolberg, W. Nick Street, Olvi L. Mangasarian\\n\\n    :Donor: Nick Street\\n\\n    :Date: November, 1995\\n\\nThis is a copy of UCI ML Breast Cancer Wisconsin (Diagnostic) datasets.\\nhttps://goo.gl/U2Uwz2\\n\\nFeatures are computed from a digitized image of a fine needle\\naspirate (FNA) of a breast mass.  They describe\\ncharacteristics of the cell nuclei present in the image.\\n\\nSeparating plane described above was obtained using\\nMultisurface Method-Tree (MSM-T) [K. P. Bennett, \"Decision Tree\\nConstruction Via Linear Programming.\" Proceedings of the 4th\\nMidwest Artificial Intelligence and Cognitive Science Society,\\npp. 97-101, 1992], a classification method which uses linear\\nprogramming to construct a decision tree.  Relevant features\\nwere selected using an exhaustive search in the space of 1-4\\nfeatures and 1-3 separating planes.\\n\\nThe actual linear program used to obtain the separating plane\\nin the 3-dimensional space is that described in:\\n[K. P. Bennett and O. L. Mangasarian: \"Robust Linear\\nProgramming Discrimination of Two Linearly Inseparable Sets\",\\nOptimization Methods and Software 1, 1992, 23-34].\\n\\nThis database is also available through the UW CS ftp server:\\n\\nftp ftp.cs.wisc.edu\\ncd math-prog/cpo-dataset/machine-learn/WDBC/\\n\\n.. topic:: References\\n\\n   - W.N. Street, W.H. Wolberg and O.L. Mangasarian. Nuclear feature extraction \\n     for breast tumor diagnosis. IS&T/SPIE 1993 International Symposium on \\n     Electronic Imaging: Science and Technology, volume 1905, pages 861-870,\\n     San Jose, CA, 1993.\\n   - O.L. Mangasarian, W.N. Street and W.H. Wolberg. Breast cancer diagnosis and \\n     prognosis via linear programming. Operations Research, 43(4), pages 570-577, \\n     July-August 1995.\\n   - W.H. Wolberg, W.N. Street, and O.L. Mangasarian. Machine learning techniques\\n     to diagnose breast cancer from fine-needle aspirates. Cancer Letters 77 (1994) \\n     163-171.'"
            ]
          },
          "metadata": {
            "tags": []
          },
          "execution_count": 19
        }
      ]
    },
    {
      "cell_type": "code",
      "metadata": {
        "id": "ATqAJJ1eEByh",
        "colab_type": "code",
        "colab": {}
      },
      "source": [
        "X=data.data\n",
        "y=data.target"
      ],
      "execution_count": 20,
      "outputs": []
    },
    {
      "cell_type": "code",
      "metadata": {
        "id": "Mon4X5uFEGtM",
        "colab_type": "code",
        "colab": {}
      },
      "source": [
        "x_train, x_test,y_train,y_test = train_test_split(X,y,test_size=0.33)"
      ],
      "execution_count": 22,
      "outputs": []
    },
    {
      "cell_type": "code",
      "metadata": {
        "id": "bqCyciuuFH1H",
        "colab_type": "code",
        "colab": {
          "base_uri": "https://localhost:8080/",
          "height": 85
        },
        "outputId": "83dbe0e4-86d0-4d0e-dbe3-126e327a323b"
      },
      "source": [
        "print(x_train.shape)\n",
        "print(y_train.shape)\n",
        "print(x_test.shape)\n",
        "print(y_test.shape)"
      ],
      "execution_count": 24,
      "outputs": [
        {
          "output_type": "stream",
          "text": [
            "(381, 30)\n",
            "(381,)\n",
            "(188, 30)\n",
            "(188,)\n"
          ],
          "name": "stdout"
        }
      ]
    },
    {
      "cell_type": "code",
      "metadata": {
        "id": "T6qfajMlFuet",
        "colab_type": "code",
        "colab": {}
      },
      "source": [
        "Scaler=StandardScaler()\n",
        "X_train=Scaler.fit_transform(x_train)\n",
        "X_test=Scaler.transform(x_test)"
      ],
      "execution_count": 30,
      "outputs": []
    },
    {
      "cell_type": "code",
      "metadata": {
        "id": "Ow88ng6VHig0",
        "colab_type": "code",
        "colab": {
          "base_uri": "https://localhost:8080/",
          "height": 1000
        },
        "outputId": "180edfa6-142f-494c-8660-72121d1854cf"
      },
      "source": [
        "#Tensoflow model\n",
        "model=tf.keras.models.Sequential([\n",
        "  tf.keras.layers.Input(shape=(F,)),\n",
        "  tf.keras.layers.Dense(1,activation='sigmoid')\n",
        "  ])\n",
        "\n",
        "# Alternatively, you can do:\n",
        "# model = tf.keras.models.Sequential()\n",
        "# model.add(tf.keras.layers.Dense(1, input_shape=(D,), activation='sigmoid'))\n",
        "\n",
        "model.compile(optimizer='adam',\n",
        "              loss='binary_crossentropy',\n",
        "              metrics='accuracy')\n",
        "\n",
        "r=model.fit(X_train, y_train, validation_data=(X_test,y_test), epochs=100)\n",
        "\n",
        "print('Train Score: ',model.evaluate(X_train,y_train))\n",
        "print('Test Score: ',model.evaluate(X_test,y_test))"
      ],
      "execution_count": 38,
      "outputs": [
        {
          "output_type": "stream",
          "text": [
            "Epoch 1/100\n",
            "12/12 [==============================] - 0s 13ms/step - loss: 0.5019 - accuracy: 0.7953 - val_loss: 0.5020 - val_accuracy: 0.8032\n",
            "Epoch 2/100\n",
            "12/12 [==============================] - 0s 3ms/step - loss: 0.4562 - accuracy: 0.8268 - val_loss: 0.4628 - val_accuracy: 0.8032\n",
            "Epoch 3/100\n",
            "12/12 [==============================] - 0s 3ms/step - loss: 0.4188 - accuracy: 0.8478 - val_loss: 0.4285 - val_accuracy: 0.8191\n",
            "Epoch 4/100\n",
            "12/12 [==============================] - 0s 3ms/step - loss: 0.3860 - accuracy: 0.8819 - val_loss: 0.3992 - val_accuracy: 0.8511\n",
            "Epoch 5/100\n",
            "12/12 [==============================] - 0s 3ms/step - loss: 0.3584 - accuracy: 0.8924 - val_loss: 0.3741 - val_accuracy: 0.8617\n",
            "Epoch 6/100\n",
            "12/12 [==============================] - 0s 3ms/step - loss: 0.3346 - accuracy: 0.8976 - val_loss: 0.3521 - val_accuracy: 0.8723\n",
            "Epoch 7/100\n",
            "12/12 [==============================] - 0s 3ms/step - loss: 0.3148 - accuracy: 0.9055 - val_loss: 0.3324 - val_accuracy: 0.8936\n",
            "Epoch 8/100\n",
            "12/12 [==============================] - 0s 3ms/step - loss: 0.2971 - accuracy: 0.9160 - val_loss: 0.3149 - val_accuracy: 0.8989\n",
            "Epoch 9/100\n",
            "12/12 [==============================] - 0s 3ms/step - loss: 0.2817 - accuracy: 0.9265 - val_loss: 0.2995 - val_accuracy: 0.9043\n",
            "Epoch 10/100\n",
            "12/12 [==============================] - 0s 3ms/step - loss: 0.2683 - accuracy: 0.9291 - val_loss: 0.2853 - val_accuracy: 0.9043\n",
            "Epoch 11/100\n",
            "12/12 [==============================] - 0s 3ms/step - loss: 0.2557 - accuracy: 0.9344 - val_loss: 0.2730 - val_accuracy: 0.9096\n",
            "Epoch 12/100\n",
            "12/12 [==============================] - 0s 3ms/step - loss: 0.2450 - accuracy: 0.9423 - val_loss: 0.2616 - val_accuracy: 0.9309\n",
            "Epoch 13/100\n",
            "12/12 [==============================] - 0s 3ms/step - loss: 0.2351 - accuracy: 0.9423 - val_loss: 0.2514 - val_accuracy: 0.9309\n",
            "Epoch 14/100\n",
            "12/12 [==============================] - 0s 3ms/step - loss: 0.2262 - accuracy: 0.9423 - val_loss: 0.2423 - val_accuracy: 0.9362\n",
            "Epoch 15/100\n",
            "12/12 [==============================] - 0s 3ms/step - loss: 0.2182 - accuracy: 0.9449 - val_loss: 0.2336 - val_accuracy: 0.9415\n",
            "Epoch 16/100\n",
            "12/12 [==============================] - 0s 3ms/step - loss: 0.2109 - accuracy: 0.9475 - val_loss: 0.2255 - val_accuracy: 0.9415\n",
            "Epoch 17/100\n",
            "12/12 [==============================] - 0s 3ms/step - loss: 0.2039 - accuracy: 0.9475 - val_loss: 0.2184 - val_accuracy: 0.9415\n",
            "Epoch 18/100\n",
            "12/12 [==============================] - 0s 3ms/step - loss: 0.1976 - accuracy: 0.9501 - val_loss: 0.2120 - val_accuracy: 0.9521\n",
            "Epoch 19/100\n",
            "12/12 [==============================] - 0s 3ms/step - loss: 0.1921 - accuracy: 0.9501 - val_loss: 0.2056 - val_accuracy: 0.9468\n",
            "Epoch 20/100\n",
            "12/12 [==============================] - 0s 3ms/step - loss: 0.1865 - accuracy: 0.9528 - val_loss: 0.2000 - val_accuracy: 0.9521\n",
            "Epoch 21/100\n",
            "12/12 [==============================] - 0s 3ms/step - loss: 0.1816 - accuracy: 0.9554 - val_loss: 0.1948 - val_accuracy: 0.9521\n",
            "Epoch 22/100\n",
            "12/12 [==============================] - 0s 3ms/step - loss: 0.1772 - accuracy: 0.9580 - val_loss: 0.1897 - val_accuracy: 0.9521\n",
            "Epoch 23/100\n",
            "12/12 [==============================] - 0s 3ms/step - loss: 0.1729 - accuracy: 0.9580 - val_loss: 0.1850 - val_accuracy: 0.9521\n",
            "Epoch 24/100\n",
            "12/12 [==============================] - 0s 3ms/step - loss: 0.1686 - accuracy: 0.9580 - val_loss: 0.1810 - val_accuracy: 0.9521\n",
            "Epoch 25/100\n",
            "12/12 [==============================] - 0s 3ms/step - loss: 0.1651 - accuracy: 0.9580 - val_loss: 0.1768 - val_accuracy: 0.9521\n",
            "Epoch 26/100\n",
            "12/12 [==============================] - 0s 3ms/step - loss: 0.1614 - accuracy: 0.9580 - val_loss: 0.1732 - val_accuracy: 0.9521\n",
            "Epoch 27/100\n",
            "12/12 [==============================] - 0s 3ms/step - loss: 0.1581 - accuracy: 0.9580 - val_loss: 0.1697 - val_accuracy: 0.9574\n",
            "Epoch 28/100\n",
            "12/12 [==============================] - 0s 3ms/step - loss: 0.1551 - accuracy: 0.9580 - val_loss: 0.1663 - val_accuracy: 0.9574\n",
            "Epoch 29/100\n",
            "12/12 [==============================] - 0s 3ms/step - loss: 0.1520 - accuracy: 0.9606 - val_loss: 0.1632 - val_accuracy: 0.9628\n",
            "Epoch 30/100\n",
            "12/12 [==============================] - 0s 3ms/step - loss: 0.1493 - accuracy: 0.9633 - val_loss: 0.1602 - val_accuracy: 0.9628\n",
            "Epoch 31/100\n",
            "12/12 [==============================] - 0s 3ms/step - loss: 0.1467 - accuracy: 0.9659 - val_loss: 0.1573 - val_accuracy: 0.9628\n",
            "Epoch 32/100\n",
            "12/12 [==============================] - 0s 3ms/step - loss: 0.1442 - accuracy: 0.9659 - val_loss: 0.1548 - val_accuracy: 0.9628\n",
            "Epoch 33/100\n",
            "12/12 [==============================] - 0s 3ms/step - loss: 0.1417 - accuracy: 0.9659 - val_loss: 0.1523 - val_accuracy: 0.9628\n",
            "Epoch 34/100\n",
            "12/12 [==============================] - 0s 3ms/step - loss: 0.1396 - accuracy: 0.9659 - val_loss: 0.1499 - val_accuracy: 0.9628\n",
            "Epoch 35/100\n",
            "12/12 [==============================] - 0s 3ms/step - loss: 0.1374 - accuracy: 0.9659 - val_loss: 0.1477 - val_accuracy: 0.9628\n",
            "Epoch 36/100\n",
            "12/12 [==============================] - 0s 3ms/step - loss: 0.1354 - accuracy: 0.9685 - val_loss: 0.1455 - val_accuracy: 0.9628\n",
            "Epoch 37/100\n",
            "12/12 [==============================] - 0s 3ms/step - loss: 0.1334 - accuracy: 0.9685 - val_loss: 0.1434 - val_accuracy: 0.9628\n",
            "Epoch 38/100\n",
            "12/12 [==============================] - 0s 3ms/step - loss: 0.1316 - accuracy: 0.9685 - val_loss: 0.1414 - val_accuracy: 0.9628\n",
            "Epoch 39/100\n",
            "12/12 [==============================] - 0s 3ms/step - loss: 0.1298 - accuracy: 0.9685 - val_loss: 0.1396 - val_accuracy: 0.9681\n",
            "Epoch 40/100\n",
            "12/12 [==============================] - 0s 3ms/step - loss: 0.1281 - accuracy: 0.9685 - val_loss: 0.1378 - val_accuracy: 0.9681\n",
            "Epoch 41/100\n",
            "12/12 [==============================] - 0s 3ms/step - loss: 0.1264 - accuracy: 0.9685 - val_loss: 0.1361 - val_accuracy: 0.9681\n",
            "Epoch 42/100\n",
            "12/12 [==============================] - 0s 3ms/step - loss: 0.1249 - accuracy: 0.9685 - val_loss: 0.1345 - val_accuracy: 0.9681\n",
            "Epoch 43/100\n",
            "12/12 [==============================] - 0s 3ms/step - loss: 0.1234 - accuracy: 0.9685 - val_loss: 0.1329 - val_accuracy: 0.9681\n",
            "Epoch 44/100\n",
            "12/12 [==============================] - 0s 3ms/step - loss: 0.1220 - accuracy: 0.9685 - val_loss: 0.1313 - val_accuracy: 0.9681\n",
            "Epoch 45/100\n",
            "12/12 [==============================] - 0s 3ms/step - loss: 0.1205 - accuracy: 0.9685 - val_loss: 0.1300 - val_accuracy: 0.9681\n",
            "Epoch 46/100\n",
            "12/12 [==============================] - 0s 3ms/step - loss: 0.1193 - accuracy: 0.9685 - val_loss: 0.1285 - val_accuracy: 0.9681\n",
            "Epoch 47/100\n",
            "12/12 [==============================] - 0s 3ms/step - loss: 0.1180 - accuracy: 0.9685 - val_loss: 0.1271 - val_accuracy: 0.9681\n",
            "Epoch 48/100\n",
            "12/12 [==============================] - 0s 3ms/step - loss: 0.1167 - accuracy: 0.9685 - val_loss: 0.1258 - val_accuracy: 0.9681\n",
            "Epoch 49/100\n",
            "12/12 [==============================] - 0s 3ms/step - loss: 0.1155 - accuracy: 0.9685 - val_loss: 0.1245 - val_accuracy: 0.9681\n",
            "Epoch 50/100\n",
            "12/12 [==============================] - 0s 3ms/step - loss: 0.1144 - accuracy: 0.9685 - val_loss: 0.1233 - val_accuracy: 0.9681\n",
            "Epoch 51/100\n",
            "12/12 [==============================] - 0s 3ms/step - loss: 0.1132 - accuracy: 0.9685 - val_loss: 0.1222 - val_accuracy: 0.9681\n",
            "Epoch 52/100\n",
            "12/12 [==============================] - 0s 3ms/step - loss: 0.1122 - accuracy: 0.9685 - val_loss: 0.1211 - val_accuracy: 0.9681\n",
            "Epoch 53/100\n",
            "12/12 [==============================] - 0s 3ms/step - loss: 0.1111 - accuracy: 0.9685 - val_loss: 0.1200 - val_accuracy: 0.9681\n",
            "Epoch 54/100\n",
            "12/12 [==============================] - 0s 3ms/step - loss: 0.1102 - accuracy: 0.9685 - val_loss: 0.1189 - val_accuracy: 0.9681\n",
            "Epoch 55/100\n",
            "12/12 [==============================] - 0s 3ms/step - loss: 0.1092 - accuracy: 0.9685 - val_loss: 0.1179 - val_accuracy: 0.9681\n",
            "Epoch 56/100\n",
            "12/12 [==============================] - 0s 3ms/step - loss: 0.1082 - accuracy: 0.9685 - val_loss: 0.1169 - val_accuracy: 0.9681\n",
            "Epoch 57/100\n",
            "12/12 [==============================] - 0s 3ms/step - loss: 0.1073 - accuracy: 0.9685 - val_loss: 0.1159 - val_accuracy: 0.9681\n",
            "Epoch 58/100\n",
            "12/12 [==============================] - 0s 3ms/step - loss: 0.1064 - accuracy: 0.9685 - val_loss: 0.1149 - val_accuracy: 0.9681\n",
            "Epoch 59/100\n",
            "12/12 [==============================] - 0s 3ms/step - loss: 0.1055 - accuracy: 0.9738 - val_loss: 0.1140 - val_accuracy: 0.9681\n",
            "Epoch 60/100\n",
            "12/12 [==============================] - 0s 3ms/step - loss: 0.1047 - accuracy: 0.9738 - val_loss: 0.1132 - val_accuracy: 0.9734\n",
            "Epoch 61/100\n",
            "12/12 [==============================] - 0s 3ms/step - loss: 0.1039 - accuracy: 0.9764 - val_loss: 0.1123 - val_accuracy: 0.9734\n",
            "Epoch 62/100\n",
            "12/12 [==============================] - 0s 3ms/step - loss: 0.1031 - accuracy: 0.9790 - val_loss: 0.1115 - val_accuracy: 0.9734\n",
            "Epoch 63/100\n",
            "12/12 [==============================] - 0s 3ms/step - loss: 0.1023 - accuracy: 0.9790 - val_loss: 0.1107 - val_accuracy: 0.9734\n",
            "Epoch 64/100\n",
            "12/12 [==============================] - 0s 3ms/step - loss: 0.1015 - accuracy: 0.9790 - val_loss: 0.1099 - val_accuracy: 0.9734\n",
            "Epoch 65/100\n",
            "12/12 [==============================] - 0s 3ms/step - loss: 0.1009 - accuracy: 0.9790 - val_loss: 0.1091 - val_accuracy: 0.9734\n",
            "Epoch 66/100\n",
            "12/12 [==============================] - 0s 3ms/step - loss: 0.1001 - accuracy: 0.9790 - val_loss: 0.1084 - val_accuracy: 0.9734\n",
            "Epoch 67/100\n",
            "12/12 [==============================] - 0s 3ms/step - loss: 0.0994 - accuracy: 0.9790 - val_loss: 0.1077 - val_accuracy: 0.9734\n",
            "Epoch 68/100\n",
            "12/12 [==============================] - 0s 3ms/step - loss: 0.0988 - accuracy: 0.9790 - val_loss: 0.1070 - val_accuracy: 0.9734\n",
            "Epoch 69/100\n",
            "12/12 [==============================] - 0s 3ms/step - loss: 0.0981 - accuracy: 0.9790 - val_loss: 0.1063 - val_accuracy: 0.9734\n",
            "Epoch 70/100\n",
            "12/12 [==============================] - 0s 3ms/step - loss: 0.0975 - accuracy: 0.9816 - val_loss: 0.1056 - val_accuracy: 0.9734\n",
            "Epoch 71/100\n",
            "12/12 [==============================] - 0s 3ms/step - loss: 0.0969 - accuracy: 0.9816 - val_loss: 0.1050 - val_accuracy: 0.9734\n",
            "Epoch 72/100\n",
            "12/12 [==============================] - 0s 3ms/step - loss: 0.0963 - accuracy: 0.9816 - val_loss: 0.1043 - val_accuracy: 0.9734\n",
            "Epoch 73/100\n",
            "12/12 [==============================] - 0s 3ms/step - loss: 0.0956 - accuracy: 0.9816 - val_loss: 0.1037 - val_accuracy: 0.9734\n",
            "Epoch 74/100\n",
            "12/12 [==============================] - 0s 3ms/step - loss: 0.0950 - accuracy: 0.9816 - val_loss: 0.1032 - val_accuracy: 0.9734\n",
            "Epoch 75/100\n",
            "12/12 [==============================] - 0s 3ms/step - loss: 0.0945 - accuracy: 0.9816 - val_loss: 0.1026 - val_accuracy: 0.9734\n",
            "Epoch 76/100\n",
            "12/12 [==============================] - 0s 3ms/step - loss: 0.0939 - accuracy: 0.9816 - val_loss: 0.1020 - val_accuracy: 0.9734\n",
            "Epoch 77/100\n",
            "12/12 [==============================] - 0s 3ms/step - loss: 0.0934 - accuracy: 0.9816 - val_loss: 0.1014 - val_accuracy: 0.9734\n",
            "Epoch 78/100\n",
            "12/12 [==============================] - 0s 3ms/step - loss: 0.0929 - accuracy: 0.9816 - val_loss: 0.1009 - val_accuracy: 0.9734\n",
            "Epoch 79/100\n",
            "12/12 [==============================] - 0s 3ms/step - loss: 0.0923 - accuracy: 0.9816 - val_loss: 0.1004 - val_accuracy: 0.9734\n",
            "Epoch 80/100\n",
            "12/12 [==============================] - 0s 3ms/step - loss: 0.0918 - accuracy: 0.9816 - val_loss: 0.0998 - val_accuracy: 0.9734\n",
            "Epoch 81/100\n",
            "12/12 [==============================] - 0s 3ms/step - loss: 0.0913 - accuracy: 0.9816 - val_loss: 0.0993 - val_accuracy: 0.9734\n",
            "Epoch 82/100\n",
            "12/12 [==============================] - 0s 3ms/step - loss: 0.0908 - accuracy: 0.9816 - val_loss: 0.0988 - val_accuracy: 0.9734\n",
            "Epoch 83/100\n",
            "12/12 [==============================] - 0s 3ms/step - loss: 0.0903 - accuracy: 0.9816 - val_loss: 0.0983 - val_accuracy: 0.9734\n",
            "Epoch 84/100\n",
            "12/12 [==============================] - 0s 2ms/step - loss: 0.0899 - accuracy: 0.9816 - val_loss: 0.0979 - val_accuracy: 0.9734\n",
            "Epoch 85/100\n",
            "12/12 [==============================] - 0s 3ms/step - loss: 0.0894 - accuracy: 0.9816 - val_loss: 0.0974 - val_accuracy: 0.9734\n",
            "Epoch 86/100\n",
            "12/12 [==============================] - 0s 3ms/step - loss: 0.0890 - accuracy: 0.9816 - val_loss: 0.0970 - val_accuracy: 0.9734\n",
            "Epoch 87/100\n",
            "12/12 [==============================] - 0s 3ms/step - loss: 0.0885 - accuracy: 0.9816 - val_loss: 0.0965 - val_accuracy: 0.9734\n",
            "Epoch 88/100\n",
            "12/12 [==============================] - 0s 3ms/step - loss: 0.0881 - accuracy: 0.9816 - val_loss: 0.0961 - val_accuracy: 0.9734\n",
            "Epoch 89/100\n",
            "12/12 [==============================] - 0s 3ms/step - loss: 0.0877 - accuracy: 0.9816 - val_loss: 0.0957 - val_accuracy: 0.9734\n",
            "Epoch 90/100\n",
            "12/12 [==============================] - 0s 2ms/step - loss: 0.0873 - accuracy: 0.9816 - val_loss: 0.0953 - val_accuracy: 0.9734\n",
            "Epoch 91/100\n",
            "12/12 [==============================] - 0s 3ms/step - loss: 0.0869 - accuracy: 0.9843 - val_loss: 0.0949 - val_accuracy: 0.9734\n",
            "Epoch 92/100\n",
            "12/12 [==============================] - 0s 4ms/step - loss: 0.0865 - accuracy: 0.9843 - val_loss: 0.0945 - val_accuracy: 0.9734\n",
            "Epoch 93/100\n",
            "12/12 [==============================] - 0s 3ms/step - loss: 0.0861 - accuracy: 0.9843 - val_loss: 0.0941 - val_accuracy: 0.9734\n",
            "Epoch 94/100\n",
            "12/12 [==============================] - 0s 2ms/step - loss: 0.0857 - accuracy: 0.9843 - val_loss: 0.0937 - val_accuracy: 0.9734\n",
            "Epoch 95/100\n",
            "12/12 [==============================] - 0s 3ms/step - loss: 0.0853 - accuracy: 0.9843 - val_loss: 0.0933 - val_accuracy: 0.9734\n",
            "Epoch 96/100\n",
            "12/12 [==============================] - 0s 3ms/step - loss: 0.0849 - accuracy: 0.9843 - val_loss: 0.0929 - val_accuracy: 0.9734\n",
            "Epoch 97/100\n",
            "12/12 [==============================] - 0s 3ms/step - loss: 0.0846 - accuracy: 0.9843 - val_loss: 0.0926 - val_accuracy: 0.9734\n",
            "Epoch 98/100\n",
            "12/12 [==============================] - 0s 3ms/step - loss: 0.0842 - accuracy: 0.9843 - val_loss: 0.0922 - val_accuracy: 0.9734\n",
            "Epoch 99/100\n",
            "12/12 [==============================] - 0s 2ms/step - loss: 0.0839 - accuracy: 0.9843 - val_loss: 0.0919 - val_accuracy: 0.9681\n",
            "Epoch 100/100\n",
            "12/12 [==============================] - 0s 2ms/step - loss: 0.0835 - accuracy: 0.9843 - val_loss: 0.0915 - val_accuracy: 0.9681\n",
            "12/12 [==============================] - 0s 1ms/step - loss: 0.0833 - accuracy: 0.9843\n",
            "Train Score:  [0.0832829475402832, 0.9842519760131836]\n",
            "6/6 [==============================] - 0s 2ms/step - loss: 0.0915 - accuracy: 0.9681\n",
            "Test Score:  [0.09153730422258377, 0.9680851101875305]\n"
          ],
          "name": "stdout"
        }
      ]
    },
    {
      "cell_type": "code",
      "metadata": {
        "id": "8UbDzg_cMLeu",
        "colab_type": "code",
        "colab": {
          "base_uri": "https://localhost:8080/",
          "height": 282
        },
        "outputId": "f701e93b-9ecc-4bfc-c706-d52bc39b4c67"
      },
      "source": [
        "#Plot the loss\n",
        "plt.plot(r.history['loss'],label='Train Loss')\n",
        "plt.plot(r.history['val_loss'],label='Validation Loss')\n",
        "plt.legend()"
      ],
      "execution_count": 41,
      "outputs": [
        {
          "output_type": "execute_result",
          "data": {
            "text/plain": [
              "<matplotlib.legend.Legend at 0x7fd6bc0cc780>"
            ]
          },
          "metadata": {
            "tags": []
          },
          "execution_count": 41
        },
        {
          "output_type": "display_data",
          "data": {
            "image/png": "[encoded data removed]",
            "text/plain": [
              "<Figure size 432x288 with 1 Axes>"
            ]
          },
          "metadata": {
            "tags": [],
            "needs_background": "light"
          }
        }
      ]
    },
    {
      "cell_type": "code",
      "metadata": {
        "id": "JSraMvgzNN08",
        "colab_type": "code",
        "colab": {
          "base_uri": "https://localhost:8080/",
          "height": 282
        },
        "outputId": "b158f8f8-a172-435f-e118-e1369c09d9de"
      },
      "source": [
        "#Plot the accuracy\n",
        "plt.plot(r.history['accuracy'],label='Train Accuracy')\n",
        "plt.plot(r.history['val_accuracy'],label='Validation Accuracy')\n",
        "plt.legend()"
      ],
      "execution_count": 42,
      "outputs": [
        {
          "output_type": "execute_result",
          "data": {
            "text/plain": [
              "<matplotlib.legend.Legend at 0x7fd6bc0def28>"
            ]
          },
          "metadata": {
            "tags": []
          },
          "execution_count": 42
        },
        {
          "output_type": "display_data",
          "data": {
            "image/png": "[encoded data removed]",
            "text/plain": [
              "<Figure size 432x288 with 1 Axes>"
            ]
          },
          "metadata": {
            "tags": [],
            "needs_background": "light"
          }
        }
      ]
    },
    {
      "cell_type": "code",
      "metadata": {
        "id": "D4mFBcznOBY5",
        "colab_type": "code",
        "colab": {
          "base_uri": "https://localhost:8080/",
          "height": 1000
        },
        "outputId": "56b97722-446a-4762-e5de-ac7d0026f037"
      },
      "source": [
        "#Pedictict\n",
        "p=model.predict(X_test)\n",
        "print(p.shape)\n",
        "print(p)"
      ],
      "execution_count": 48,
      "outputs": [
        {
          "output_type": "stream",
          "text": [
            "(188, 1)\n",
            "[[9.61603105e-01]\n",
            " [9.95868921e-01]\n",
            " [9.87691343e-01]\n",
            " [8.42007697e-01]\n",
            " [9.43507373e-01]\n",
            " [9.76411223e-01]\n",
            " [2.73345381e-01]\n",
            " [1.81794167e-04]\n",
            " [2.66884565e-02]\n",
            " [8.25349092e-01]\n",
            " [9.99788284e-01]\n",
            " [8.48520756e-01]\n",
            " [9.94785190e-01]\n",
            " [8.20925832e-03]\n",
            " [8.40708017e-02]\n",
            " [5.52296638e-03]\n",
            " [9.88053083e-01]\n",
            " [9.82847214e-01]\n",
            " [9.94505405e-01]\n",
            " [9.98941362e-01]\n",
            " [7.82455564e-01]\n",
            " [3.87596956e-05]\n",
            " [9.92907763e-01]\n",
            " [9.74140644e-01]\n",
            " [7.41247714e-01]\n",
            " [1.96394324e-03]\n",
            " [2.76952982e-04]\n",
            " [9.98121858e-01]\n",
            " [9.63517964e-01]\n",
            " [9.88727331e-01]\n",
            " [9.04375315e-03]\n",
            " [9.64926004e-01]\n",
            " [1.58956945e-02]\n",
            " [6.28915368e-05]\n",
            " [1.56842291e-01]\n",
            " [9.92481589e-01]\n",
            " [2.50498169e-06]\n",
            " [9.97372806e-01]\n",
            " [9.87265229e-01]\n",
            " [8.45862389e-01]\n",
            " [8.82819474e-01]\n",
            " [8.94806147e-01]\n",
            " [9.59510071e-09]\n",
            " [9.44847703e-01]\n",
            " [7.85591602e-02]\n",
            " [3.07058692e-01]\n",
            " [9.61622953e-01]\n",
            " [9.98404384e-01]\n",
            " [9.99284387e-01]\n",
            " [9.97396171e-01]\n",
            " [5.03882229e-01]\n",
            " [5.53795695e-03]\n",
            " [1.18658543e-02]\n",
            " [9.97756660e-01]\n",
            " [9.92100120e-01]\n",
            " [9.93474364e-01]\n",
            " [9.91130471e-01]\n",
            " [2.18417048e-02]\n",
            " [9.99098957e-01]\n",
            " [9.96065497e-01]\n",
            " [9.73549068e-01]\n",
            " [9.98215199e-01]\n",
            " [9.94687736e-01]\n",
            " [8.86648893e-04]\n",
            " [9.74363923e-01]\n",
            " [9.94984388e-01]\n",
            " [9.87654686e-01]\n",
            " [9.94490027e-01]\n",
            " [3.21364343e-01]\n",
            " [9.52685595e-01]\n",
            " [8.40059996e-01]\n",
            " [6.75824821e-01]\n",
            " [1.27217641e-06]\n",
            " [9.41965342e-01]\n",
            " [9.80683386e-01]\n",
            " [9.96004105e-01]\n",
            " [4.91565466e-03]\n",
            " [9.99320507e-01]\n",
            " [9.95485485e-01]\n",
            " [6.40412331e-01]\n",
            " [1.20651245e-01]\n",
            " [2.39312351e-02]\n",
            " [9.97618198e-01]\n",
            " [5.60523331e-01]\n",
            " [9.39603342e-06]\n",
            " [9.64821756e-01]\n",
            " [9.90412235e-01]\n",
            " [3.21355462e-03]\n",
            " [4.64498997e-03]\n",
            " [1.95860863e-04]\n",
            " [9.83209848e-01]\n",
            " [9.98508751e-01]\n",
            " [9.98265862e-01]\n",
            " [8.46844912e-03]\n",
            " [9.86944795e-01]\n",
            " [9.31669295e-01]\n",
            " [9.75846648e-01]\n",
            " [9.84167218e-01]\n",
            " [9.83755112e-01]\n",
            " [6.93304539e-01]\n",
            " [8.55057776e-01]\n",
            " [9.78905022e-01]\n",
            " [8.81741744e-06]\n",
            " [9.89929080e-01]\n",
            " [9.55640316e-01]\n",
            " [6.30345047e-02]\n",
            " [9.89874661e-01]\n",
            " [4.05358374e-02]\n",
            " [9.13573146e-01]\n",
            " [7.77080536e-01]\n",
            " [9.99441981e-01]\n",
            " [3.43405306e-02]\n",
            " [1.49267912e-03]\n",
            " [5.86544573e-02]\n",
            " [1.81183077e-05]\n",
            " [9.97539759e-01]\n",
            " [4.28760260e-01]\n",
            " [4.23361361e-02]\n",
            " [2.68117083e-06]\n",
            " [8.12370777e-01]\n",
            " [1.84029341e-04]\n",
            " [9.95225787e-01]\n",
            " [9.11050439e-01]\n",
            " [9.98769879e-01]\n",
            " [9.99651790e-01]\n",
            " [9.09829140e-01]\n",
            " [9.71699834e-01]\n",
            " [9.94090259e-01]\n",
            " [9.89772260e-01]\n",
            " [8.73822153e-01]\n",
            " [8.72269690e-01]\n",
            " [1.05237961e-02]\n",
            " [5.52535057e-04]\n",
            " [9.95898604e-01]\n",
            " [9.60867405e-01]\n",
            " [3.64959240e-04]\n",
            " [9.98886168e-01]\n",
            " [9.96498466e-01]\n",
            " [9.98992741e-01]\n",
            " [9.98921514e-01]\n",
            " [5.28948963e-01]\n",
            " [1.63749754e-02]\n",
            " [8.17210317e-01]\n",
            " [9.97277975e-01]\n",
            " [9.98565078e-01]\n",
            " [9.61521506e-01]\n",
            " [3.66890268e-11]\n",
            " [8.50348234e-01]\n",
            " [5.72919846e-04]\n",
            " [9.99948323e-01]\n",
            " [2.39913136e-01]\n",
            " [3.23119462e-02]\n",
            " [9.39155281e-01]\n",
            " [9.87513781e-01]\n",
            " [7.52795458e-01]\n",
            " [5.31673431e-04]\n",
            " [2.14070082e-04]\n",
            " [9.86467957e-01]\n",
            " [8.39392602e-01]\n",
            " [1.29083991e-02]\n",
            " [3.10450792e-04]\n",
            " [6.27570093e-01]\n",
            " [9.98907447e-01]\n",
            " [3.98072302e-02]\n",
            " [9.00368690e-01]\n",
            " [9.51292038e-01]\n",
            " [7.65349209e-01]\n",
            " [9.86137331e-01]\n",
            " [2.68614888e-02]\n",
            " [9.99864578e-01]\n",
            " [9.99149799e-01]\n",
            " [9.90692377e-01]\n",
            " [9.54636693e-01]\n",
            " [4.85119224e-02]\n",
            " [9.66712534e-01]\n",
            " [9.98166025e-01]\n",
            " [9.30311024e-01]\n",
            " [9.76880491e-02]\n",
            " [9.98209894e-01]\n",
            " [9.75996554e-02]\n",
            " [3.43799591e-04]\n",
            " [9.83265579e-01]\n",
            " [5.55232823e-01]\n",
            " [1.77830160e-02]\n",
            " [1.92818940e-02]\n",
            " [1.20767474e-01]\n",
            " [1.37776136e-04]\n",
            " [6.98029995e-04]]\n"
          ],
          "name": "stdout"
        }
      ]
    },
    {
      "cell_type": "code",
      "metadata": {
        "id": "9FAucOBOPDgf",
        "colab_type": "code",
        "colab": {
          "base_uri": "https://localhost:8080/",
          "height": 170
        },
        "outputId": "c0328226-53d6-4fe1-d451-98008694e074"
      },
      "source": [
        "p=np.round(p).flatten()\n",
        "print(p.shape)\n",
        "print(p)"
      ],
      "execution_count": 49,
      "outputs": [
        {
          "output_type": "stream",
          "text": [
            "(188,)\n",
            "[1. 1. 1. 1. 1. 1. 0. 0. 0. 1. 1. 1. 1. 0. 0. 0. 1. 1. 1. 1. 1. 0. 1. 1.\n",
            " 1. 0. 0. 1. 1. 1. 0. 1. 0. 0. 0. 1. 0. 1. 1. 1. 1. 1. 0. 1. 0. 0. 1. 1.\n",
            " 1. 1. 1. 0. 0. 1. 1. 1. 1. 0. 1. 1. 1. 1. 1. 0. 1. 1. 1. 1. 0. 1. 1. 1.\n",
            " 0. 1. 1. 1. 0. 1. 1. 1. 0. 0. 1. 1. 0. 1. 1. 0. 0. 0. 1. 1. 1. 0. 1. 1.\n",
            " 1. 1. 1. 1. 1. 1. 0. 1. 1. 0. 1. 0. 1. 1. 1. 0. 0. 0. 0. 1. 0. 0. 0. 1.\n",
            " 0. 1. 1. 1. 1. 1. 1. 1. 1. 1. 1. 0. 0. 1. 1. 0. 1. 1. 1. 1. 1. 0. 1. 1.\n",
            " 1. 1. 0. 1. 0. 1. 0. 0. 1. 1. 1. 0. 0. 1. 1. 0. 0. 1. 1. 0. 1. 1. 1. 1.\n",
            " 0. 1. 1. 1. 1. 0. 1. 1. 1. 0. 1. 0. 0. 1. 1. 0. 0. 0. 0. 0.]\n"
          ],
          "name": "stdout"
        }
      ]
    },
    {
      "cell_type": "code",
      "metadata": {
        "id": "z_4A2s3tPmYX",
        "colab_type": "code",
        "colab": {}
      },
      "source": [
        "#Save the model\n",
        "model.save('BreastCancerLinearClassifier.h5')"
      ],
      "execution_count": 50,
      "outputs": []
    },
    {
      "cell_type": "code",
      "metadata": {
        "id": "A2TE80ubSLEQ",
        "colab_type": "code",
        "colab": {
          "base_uri": "https://localhost:8080/",
          "height": 34
        },
        "outputId": "1a90f8f5-dbff-425f-9e3d-860d4c80e31b"
      },
      "source": [
        "!pwd"
      ],
      "execution_count": 55,
      "outputs": [
        {
          "output_type": "stream",
          "text": [
            "/content\n"
          ],
          "name": "stdout"
        }
      ]
    },
    {
      "cell_type": "code",
      "metadata": {
        "id": "DXBOBXM5P4VO",
        "colab_type": "code",
        "colab": {
          "base_uri": "https://localhost:8080/",
          "height": 34
        },
        "outputId": "69a8636c-7411-4dbc-ab8c-0b1f1a13d6e4"
      },
      "source": [
        "!ls"
      ],
      "execution_count": 51,
      "outputs": [
        {
          "output_type": "stream",
          "text": [
            "BreastCancerLinearClassifier.h5  sample_data\n"
          ],
          "name": "stdout"
        }
      ]
    },
    {
      "cell_type": "code",
      "metadata": {
        "id": "2utmzCtHRSqw",
        "colab_type": "code",
        "colab": {
          "base_uri": "https://localhost:8080/",
          "height": 68
        },
        "outputId": "57b832ff-419c-41af-8b52-f88b4e71ac0b"
      },
      "source": [
        "model1=tf.keras.models.load_model('BreastCancerLinearClassifier.h5')\n",
        "print(model1.layers)\n",
        "print(model1.evaluate(X_train, y_train))"
      ],
      "execution_count": 54,
      "outputs": [
        {
          "output_type": "stream",
          "text": [
            "[<tensorflow.python.keras.layers.core.Dense object at 0x7fd6cf30cb38>]\n",
            "12/12 [==============================] - 0s 1ms/step - loss: 0.0833 - accuracy: 0.9843\n",
            "[0.0832829475402832, 0.9842519760131836]\n"
          ],
          "name": "stdout"
        }
      ]
    },
    {
      "cell_type": "code",
      "metadata": {
        "id": "0JC8R74WR43x",
        "colab_type": "code",
        "colab": {
          "base_uri": "https://localhost:8080/",
          "height": 17
        },
        "outputId": "0ba9875d-403b-4c15-f04d-a636e1faae6c"
      },
      "source": [
        "# Download the file - requires Chrome (at this point)\n",
        "from google.colab import files\n",
        "files.download('BreastCancerLinearClassifier.h5')"
      ],
      "execution_count": 57,
      "outputs": [
        {
          "output_type": "display_data",
          "data": {
            "application/javascript": [
              "\n",
              "    async function download(id, filename, size) {\n",
              "      if (!google.colab.kernel.accessAllowed) {\n",
              "        return;\n",
              "      }\n",
              "      const div = document.createElement('div');\n",
              "      const label = document.createElement('label');\n",
              "      label.textContent = `Downloading \"${filename}\": `;\n",
              "      div.appendChild(label);\n",
              "      const progress = document.createElement('progress');\n",
              "      progress.max = size;\n",
              "      div.appendChild(progress);\n",
              "      document.body.appendChild(div);\n",
              "\n",
              "      const buffers = [];\n",
              "      let downloaded = 0;\n",
              "\n",
              "      const channel = await google.colab.kernel.comms.open(id);\n",
              "      // Send a message to notify the kernel that we're ready.\n",
              "      channel.send({})\n",
              "\n",
              "      for await (const message of channel.messages) {\n",
              "        // Send a message to notify the kernel that we're ready.\n",
              "        channel.send({})\n",
              "        if (message.buffers) {\n",
              "          for (const buffer of message.buffers) {\n",
              "            buffers.push(buffer);\n",
              "            downloaded += buffer.byteLength;\n",
              "            progress.value = downloaded;\n",
              "          }\n",
              "        }\n",
              "      }\n",
              "      const blob = new Blob(buffers, {type: 'application/binary'});\n",
              "      const a = document.createElement('a');\n",
              "      a.href = window.URL.createObjectURL(blob);\n",
              "      a.download = filename;\n",
              "      div.appendChild(a);\n",
              "      a.click();\n",
              "      div.remove();\n",
              "    }\n",
              "  "
            ],
            "text/plain": [
              "<IPython.core.display.Javascript object>"
            ]
          },
          "metadata": {
            "tags": []
          }
        },
        {
          "output_type": "display_data",
          "data": {
            "application/javascript": [
              "download(\"download_abf37eed-c5ef-4d2f-8db0-e847100d1514\", \"BreastCancerLinearClassifier.h5\", 18488)"
            ],
            "text/plain": [
              "<IPython.core.display.Javascript object>"
            ]
          },
          "metadata": {
            "tags": []
          }
        }
      ]
    }
  ]
}